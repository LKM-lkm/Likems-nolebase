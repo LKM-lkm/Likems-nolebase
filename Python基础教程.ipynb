{
 "cells": [
  {
   "cell_type": "markdown",
   "id": "246a723f",
   "metadata": {},
   "source": [
    "# Python编程基础教程\n",
    "\n",
    "欢迎来到Python编程基础教程！这个教程专门为初学者设计，将带领您逐步掌握Python编程的基础知识。\n",
    "\n",
    "## 学习目标\n",
    "1. 理解Python基础语法\n",
    "2. 掌握基本数据类型和变量\n",
    "3. 学会使用运算符和控制流\n",
    "4. 了解Python中的数据结构\n",
    "5. 学习函数的定义和使用\n",
    "\n",
    "让我们开始学习吧！"
   ]
  },
  {
   "cell_type": "markdown",
   "id": "f550b0bc",
   "metadata": {},
   "source": [
    "# 1. Python变量和数据类型\n",
    "\n",
    "在Python中，变量是用来存储数据的容器。Python是动态类型语言，这意味着我们不需要预先声明变量的类型。\n",
    "\n",
    "## 基本数据类型：\n",
    "1. 整数（int）\n",
    "2. 浮点数（float）\n",
    "3. 字符串（str）\n",
    "4. 布尔值（bool）\n",
    "\n",
    "让我们通过实例来学习这些数据类型："
   ]
  },
  {
   "cell_type": "code",
   "execution_count": null,
   "id": "e65632e2",
   "metadata": {},
   "outputs": [],
   "source": [
    "# 整数\n",
    "age = 25\n",
    "print(f\"整数示例 - 年龄：{age}，类型：{type(age)}\")\n",
    "\n",
    "# 浮点数\n",
    "height = 1.75\n",
    "print(f\"浮点数示例 - 身高：{height}米，类型：{type(height)}\")\n",
    "\n",
    "# 字符串\n",
    "name = \"小明\"\n",
    "print(f\"字符串示例 - 姓名：{name}，类型：{type(name)}\")\n",
    "\n",
    "# 布尔值\n",
    "is_student = True\n",
    "print(f\"布尔值示例 - 是否学生：{is_student}，类型：{type(is_student)}\")"
   ]
  },
  {
   "cell_type": "markdown",
   "id": "4555efb2",
   "metadata": {},
   "source": [
    "# 2. Python基本运算符\n",
    "\n",
    "Python提供了多种运算符，让我们来看看最常用的几种：\n",
    "\n",
    "## 算术运算符\n",
    "- 加法：+\n",
    "- 减法：-\n",
    "- 乘法：*\n",
    "- 除法：/\n",
    "- 整除：//\n",
    "- 求余：%\n",
    "- 幂运算：**\n",
    "\n",
    "## 比较运算符\n",
    "- 等于：==\n",
    "- 不等于：!=\n",
    "- 大于：>\n",
    "- 小于：<\n",
    "- 大于等于：>=\n",
    "- 小于等于：<=\n",
    "\n",
    "## 逻辑运算符\n",
    "- 与：and\n",
    "- 或：or\n",
    "- 非：not\n",
    "\n",
    "让我们通过实例来学习这些运算符："
   ]
  },
  {
   "cell_type": "code",
   "execution_count": null,
   "id": "281c602e",
   "metadata": {},
   "outputs": [],
   "source": [
    "# 算术运算符示例\n",
    "a = 10\n",
    "b = 3\n",
    "\n",
    "print(\"算术运算符示例：\")\n",
    "print(f\"a = {a}, b = {b}\")\n",
    "print(f\"加法：{a} + {b} = {a + b}\")\n",
    "print(f\"减法：{a} - {b} = {a - b}\")\n",
    "print(f\"乘法：{a} * {b} = {a * b}\")\n",
    "print(f\"除法：{a} / {b} = {a / b}\")\n",
    "print(f\"整除：{a} // {b} = {a // b}\")\n",
    "print(f\"求余：{a} % {b} = {a % b}\")\n",
    "print(f\"幂运算：{a} ** {b} = {a ** b}\")\n",
    "\n",
    "# 比较运算符示例\n",
    "print(\"\\n比较运算符示例：\")\n",
    "print(f\"{a} == {b}：{a == b}\")\n",
    "print(f\"{a} != {b}：{a != b}\")\n",
    "print(f\"{a} > {b}：{a > b}\")\n",
    "print(f\"{a} < {b}：{a < b}\")\n",
    "\n",
    "# 逻辑运算符示例\n",
    "x = True\n",
    "y = False\n",
    "\n",
    "print(\"\\n逻辑运算符示例：\")\n",
    "print(f\"x = {x}, y = {y}\")\n",
    "print(f\"x and y = {x and y}\")\n",
    "print(f\"x or y = {x or y}\")\n",
    "print(f\"not x = {not x}\")"
   ]
  }
 ],
 "metadata": {
  "language_info": {
   "name": "python"
  }
 },
 "nbformat": 4,
 "nbformat_minor": 5
}
